{
 "cells": [
  {
   "cell_type": "markdown",
   "metadata": {},
   "source": [
    "# Flask-Scrapper"
   ]
  },
  {
   "cell_type": "markdown",
   "metadata": {},
   "source": [
    "## *Introduction*"
   ]
  },
  {
   "cell_type": "markdown",
   "metadata": {},
   "source": [
    "This project consists in a web-scrapper plus a website who catch notices from different sites, and then save them in a database and send it by email to a email list. Well, let's begin with the file **\"main.py\"**. First of all, let's import the necessary modules:"
   ]
  },
  {
   "cell_type": "code",
   "execution_count": null,
   "metadata": {},
   "outputs": [],
   "source": [
    "from bs4 import BeautifulSoup\n",
    "import requests\n",
    "from datetime import datetime\n",
    "from database import add_notice, verify_date, set_today_news, verify_today, delete_today_news, get_mails, get_today_news\n",
    "import smtplib\n",
    "import os\n",
    "from email.mime.multipart import MIMEMultipart\n",
    "from email.mime.text import MIMEText\n",
    "from email.mime.application import MIMEApplication"
   ]
  },
  {
   "cell_type": "markdown",
   "metadata": {},
   "source": [
    "Calm down, every module will be explained in this documentation"
   ]
  },
  {
   "cell_type": "markdown",
   "metadata": {},
   "source": [
    "## *Web-Scrapper*"
   ]
  },
  {
   "cell_type": "markdown",
   "metadata": {},
   "source": [
    "So, let's create a web-scrapper to take the notices.We need to use the BeautifulSoup for that, this class will search the passed requirements of HTML code that we'll need. We'll use the module **\"requests\"** to go to the necessary pages. So we have:"
   ]
  },
  {
   "cell_type": "code",
   "execution_count": null,
   "metadata": {},
   "outputs": [],
   "source": [
    "def search_notices():\n",
    "    sites = ['site1', 'site2',\n",
    "             'site3', 'site4']\n",
    "    html = [requests.get(site).content for site in sites]\n",
    "    notices = []\n",
    "    count = 0\n",
    "    today = datetime.today().utcnow().date()\n"
   ]
  },
  {
   "cell_type": "markdown",
   "metadata": {},
   "source": [
    "OK, let's talk about the script.\n",
    "First of all, I've decide to put the instructions in a function because in that way I can call the function in my flask application, so it will be very useful. \n",
    "I've created a list with the sites who I want to take the notices, and then I've created a list comprehension who saves the HTML code of all the sites I've requested. I've created too a list that will store specific excerpts in HTML codes that contain the notice that we want. The **\"count\"** variable will serve as a counter for the html variable, and the variable today will store the date of the day that the notice was posted.\n",
    "\n",
    "Now, we need to make a for-loop that will format the html code and take the notices of the websites. I've used a if-elif sequence for every site that we have in \"sites\" variable, where we have '' in the script, just because every site have your properly way to store the notices, then we'll append in \"notices\" variable as string."
   ]
  },
  {
   "cell_type": "code",
   "execution_count": null,
   "metadata": {},
   "outputs": [],
   "source": [
    "    for site in sites:\n",
    "        soup = BeautifulSoup(html[count], 'html.parser')\n",
    "        if '' in site:\n",
    "            notice = soup.find('a', class_=\"HTML_CLASS\").string\n",
    "            resume = soup.find('div', class_=\"HTML_CLASS\").string\n",
    "            notices.append([notice, resume])\n",
    "\n",
    "        elif '' in site:\n",
    "            notice = soup.find('span', class_=\"HTML_CLASS\").string\n",
    "            resume = soup.find('p', class_=\"HTML_CLASS\").string\n",
    "            notices.append([notice, resume])\n",
    "        elif '' in site:\n",
    "            notice = soup.find('h2', class_=\"HTML_CLASS\").string\n",
    "            resume = soup.find('p', class_=\"HTML_CLASS\").string\n",
    "            notices.append([notice, resume])\n",
    "\n",
    "        elif '' in site:\n",
    "            notice = soup.find('a', class_=\"HTML_CLASS\").string\n",
    "            resume = soup.find('div', class_=\"HTML_CLASS\").string\n",
    "            notices.append([notice, resume, today])\n",
    "\n",
    "        count += 1"
   ]
  },
  {
   "cell_type": "markdown",
   "metadata": {},
   "source": [
    "Now, we need to create a database, so let's go to **\"database.py\"**."
   ]
  },
  {
   "cell_type": "markdown",
   "metadata": {},
   "source": [
    "## *Creating a database*"
   ]
  },
  {
   "cell_type": "markdown",
   "metadata": {},
   "source": [
    "To create our database, we'll use the sqlite, so let's build the basic structure:"
   ]
  },
  {
   "cell_type": "code",
   "execution_count": null,
   "metadata": {},
   "outputs": [],
   "source": [
    "import sqlite3 as sql\n",
    "\n",
    "conn = sql.connect('notices.db')\n",
    "cursor = conn.cursor()\n",
    "\n",
    "cursor.execute('CREATE TABLE IF NOT EXISTS notices(id INTEGER PRIMARY KEY AUTOINCREMENT NOT NULL, title TEXT, '\n",
    "               'resume TEXT, date DATETIME)')\n",
    "\n",
    "cursor.execute('CREATE TABLE IF NOT EXISTS emails(id INTEGER PRIMARY KEY AUTOINCREMENT NOT NULL, email TEXT)')"
   ]
  },
  {
   "cell_type": "markdown",
   "metadata": {},
   "source": [
    "ok, we've created a database who contains two tables to store the notices and the user's emails. Now let's create the function that will store the notices:"
   ]
  },
  {
   "cell_type": "code",
   "execution_count": null,
   "metadata": {},
   "outputs": [],
   "source": [
    "def add_notice(title, resume, date):\n",
    "    conn = sql.connect('notices.db')\n",
    "    cursor = conn.cursor()\n",
    "    cursor.execute('INSERT INTO notices(title, resume, date) VALUES (?,?,?)', (title, resume, date))\n",
    "    conn.commit()"
   ]
  },
  {
   "cell_type": "markdown",
   "metadata": {},
   "source": [
    "Ok, we've created the function, but I want you to notice that we wave a problem. When we add a notice on our database, we don't have (yet) a filter that saves only the news of the day, so if we run our script many times, the notices will repeat every time and it get's worse as the days go by. Briefly, it will overload and pollute our database. So we need a function that filters the notice. Then we have:"
   ]
  },
  {
   "cell_type": "code",
   "execution_count": null,
   "metadata": {},
   "outputs": [],
   "source": [
    "def verify_date(date):\n",
    "    conn = sql.connect('notices.db')\n",
    "    cursor = conn.cursor()\n",
    "    cursor.execute(\"SELECT date FROM notices\")\n",
    "    dates = cursor.fetchall()\n",
    "    verify = False\n",
    "    date = str(date)\n",
    "    for date_ in dates:\n",
    "        if date in date_[0]:\n",
    "            verify = True\n",
    "            break\n",
    "    return verify"
   ]
  },
  {
   "cell_type": "markdown",
   "metadata": {},
   "source": [
    "in **\"verify date\"** function, we'll pass the today's date in **\"date\"** variable, select the date colum from the notices table, and scan it comparing with the passing variable **\"date\"**, then we have a verifier that solves our problem."
   ]
  },
  {
   "cell_type": "markdown",
   "metadata": {},
   "source": [
    "So, back to the **\"main.py\"** file, we have (still inside of \"search notices, but out of the for-loop): "
   ]
  },
  {
   "cell_type": "code",
   "execution_count": null,
   "metadata": {},
   "outputs": [],
   "source": [
    " verify = verify_date(today)\n",
    " for notice_ in notices:\n",
    "    if verify:\n",
    "        pass\n",
    "    if not verify:\n",
    "        add_notice(notice_[0], notice_[1], today)"
   ]
  },
  {
   "cell_type": "markdown",
   "metadata": {},
   "source": [
    "In the script ahead, if our verify function returns true, it means that the notices of today are already in our database, so we just ignore that. But if the date are not in our database, then whe use the **\"add_notice\"** function to put the notices there."
   ]
  },
  {
   "cell_type": "markdown",
   "metadata": {},
   "source": [
    "Ok, I guess that now we can create the **\"app.py\"** to make the flask application, so let's do it:"
   ]
  },
  {
   "cell_type": "markdown",
   "metadata": {},
   "source": [
    "## *Creating a Flask Application*"
   ]
  },
  {
   "cell_type": "code",
   "execution_count": null,
   "metadata": {},
   "outputs": [],
   "source": [
    "from flask import Flask, render_template, request, redirect, url_for\n",
    "from database import show_notices, save_email, search_email\n",
    "from main import search_notices, send_mail\n",
    "import schedule\n",
    "from threading import Thread\n",
    "from time import sleep\n",
    "\n",
    "app = Flask(__name__)\n",
    "app.config['SQLALCHEMY_DATABASE_URI'] = 'sqlite:///notices.sqlite3'\n",
    "\n",
    "\n",
    "@app.route('/')\n",
    "def index():\n",
    "    return render_template('index.html')"
   ]
  },
  {
   "cell_type": "markdown",
   "metadata": {},
   "source": [
    "Calm down, again, every import will make sense, be patient and focus on basic script for Flask"
   ]
  },
  {
   "cell_type": "markdown",
   "metadata": {},
   "source": [
    "Ok, after create the basic structure for a Flask application, we can open the website using \"flask run\" on terminal and opening the local host. Let's create now a page to show the notices"
   ]
  },
  {
   "cell_type": "code",
   "execution_count": null,
   "metadata": {},
   "outputs": [],
   "source": [
    "@app.route('/notices', methods=['GET', 'POST'])\n",
    "def notices():\n",
    "    return render_template('notices.html')"
   ]
  },
  {
   "cell_type": "markdown",
   "metadata": {},
   "source": [
    "Ok, now, I guess that you'll agree with me when I say that we need a function who can take the notices in our database, so let's create her in our **\"database.py\"** file:"
   ]
  },
  {
   "cell_type": "code",
   "execution_count": null,
   "metadata": {},
   "outputs": [],
   "source": [
    "def show_notices():\n",
    "    conn = sql.connect('notices.db')\n",
    "    cursor = conn.cursor()\n",
    "    cursor.execute('SELECT * FROM notices ORDER BY id Desc')\n",
    "    notices = cursor.fetchall()\n",
    "    return notices"
   ]
  },
  {
   "cell_type": "markdown",
   "metadata": {},
   "source": [
    "The ahead function will select all the columns from notices table, ordered from top to bottom so you can show the news of the day first. Let's return to our flask file and change our notices function. So we have:"
   ]
  },
  {
   "cell_type": "code",
   "execution_count": null,
   "metadata": {},
   "outputs": [],
   "source": [
    "@app.route('/notices', methods=['GET', 'POST'])\n",
    "def notices():\n",
    "    notices_ = show_notices()\n",
    "    return render_template('notices.html', notices=notices_)"
   ]
  },
  {
   "cell_type": "markdown",
   "metadata": {},
   "source": [
    "Ok, we've passed a second parameter in our render template to put the notices on our html file named **\"notices.html\"** by jinja, that allows python scripts in html file"
   ]
  },
  {
   "cell_type": "markdown",
   "metadata": {},
   "source": [
    "Now, let's create a page who the user's can register the email:"
   ]
  },
  {
   "cell_type": "code",
   "execution_count": null,
   "metadata": {},
   "outputs": [],
   "source": [
    "@app.route('/data')\n",
    "def data():\n",
    "    return render_template('data.html')"
   ]
  },
  {
   "cell_type": "markdown",
   "metadata": {},
   "source": [
    "Alright, but thats not enough, now, we have to create a function to the page but with the **\"post\"** method, and then we need to take the email of our html file, so we have:"
   ]
  },
  {
   "cell_type": "code",
   "execution_count": null,
   "metadata": {},
   "outputs": [],
   "source": [
    "@app.route('/data', methods=['POST'])\n",
    "def data_post():\n",
    "    email = request.form.get('email')"
   ]
  },
  {
   "cell_type": "markdown",
   "metadata": {},
   "source": [
    "Ok, so now we have to do two things: Save the email in our database and verify if the email has already been stored in our database, thus avoiding duplicated emails. So, in our database file, we need to add:"
   ]
  },
  {
   "cell_type": "code",
   "execution_count": null,
   "metadata": {},
   "outputs": [],
   "source": [
    "def save_email(email):\n",
    "    conn = sql.connect('notices.db')\n",
    "    cursor = conn.cursor()\n",
    "    cursor.execute('INSERT INTO emails(email) VALUES (?)', (email,))\n",
    "    conn.commit()"
   ]
  },
  {
   "cell_type": "code",
   "execution_count": null,
   "metadata": {},
   "outputs": [],
   "source": [
    "def search_email(email):\n",
    "    conn = sql.connect('notices.db')\n",
    "    cursor = conn.cursor()\n",
    "    cursor.execute('SELECT email FROM emails')\n",
    "    emails = cursor.fetchall()\n",
    "    verify = False\n",
    "    for email_ in emails:\n",
    "        if email in email_[0]:\n",
    "            verify = True\n",
    "            break\n",
    "    return verify"
   ]
  },
  {
   "cell_type": "markdown",
   "metadata": {},
   "source": [
    "The \"search_mail\" has the same precept of the notice verifier, so no need for introductions, except by the fact that we'll compare our passed **\"email\"** with **email_[0]**, to obtain the correct format of the emails stored in database"
   ]
  },
  {
   "cell_type": "markdown",
   "metadata": {},
   "source": [
    "So, going back to our **\"data_post\"** function in flask app, we have:"
   ]
  },
  {
   "cell_type": "code",
   "execution_count": null,
   "metadata": {},
   "outputs": [],
   "source": [
    "def data_post():\n",
    "    email = request.form.get('email')\n",
    "    verify = search_email(email)\n",
    "    if verify:\n",
    "        pass\n",
    "    else:\n",
    "        save_email(email)\n",
    "    return redirect(url_for('index'))"
   ]
  },
  {
   "cell_type": "markdown",
   "metadata": {},
   "source": [
    "Ok, we'll return to flask application later, for now, just add in the final of your script in this file the following command:"
   ]
  },
  {
   "cell_type": "code",
   "execution_count": null,
   "metadata": {},
   "outputs": [],
   "source": [
    "if __name__ == \"__main__\":\n",
    "    app.run(debug=True)"
   ]
  },
  {
   "cell_type": "markdown",
   "metadata": {},
   "source": [
    "Now, let's focus on send a email with the notices that we have stored. For this, we'll go to the \"main.py\" file and continue below of the **add_notice**, in the **\"if not verify\"**."
   ]
  },
  {
   "cell_type": "markdown",
   "metadata": {},
   "source": [
    "## *Sending email*"
   ]
  },
  {
   "cell_type": "markdown",
   "metadata": {},
   "source": [
    "Ok, pay attention now. What we want to do it's send the notices of the day for a list of emails, but we wave a problem: We don't have a control of what news are from today, and our functions to manipulate the database maybe could help us, but I prefer to create a new table only with the notices of the day and manipulate her. So, for this, we need firstly create a new table below the others that we've already created, so, in database.py file:"
   ]
  },
  {
   "cell_type": "code",
   "execution_count": null,
   "metadata": {},
   "outputs": [],
   "source": [
    "cursor.execute('CREATE TABLE IF NOT EXISTS today_posts(id INTEGER PRIMARY KEY AUTOINCREMENT NOT NULL, title TEXT, '\n",
    "               'resume TEXT, date DATETIME)')"
   ]
  },
  {
   "cell_type": "markdown",
   "metadata": {},
   "source": [
    "So now, we need to create two function: one by add the news and other by verify if the news are updated:"
   ]
  },
  {
   "cell_type": "code",
   "execution_count": null,
   "metadata": {},
   "outputs": [],
   "source": [
    "def set_today_news(title, resume, date):\n",
    "    conn = sql.connect('notices.db')\n",
    "    cursor = conn.cursor()\n",
    "    cursor.execute('INSERT INTO today_posts(title, resume, date) VALUES (?,?,?)', (title, resume, date))\n",
    "    conn.commit()"
   ]
  },
  {
   "cell_type": "code",
   "execution_count": null,
   "metadata": {},
   "outputs": [],
   "source": [
    "def verify_today(date):\n",
    "    conn = sql.connect('notices.db')\n",
    "    cursor = conn.cursor()\n",
    "    cursor.execute('SELECT date FROM today_posts')\n",
    "    date_posts = cursor.fetchall()\n",
    "    date = str(date)\n",
    "    is_new = False\n",
    "    for date_ in date_posts:\n",
    "        if date not in date_[0]:\n",
    "            is_new = True\n",
    "            break\n",
    "    return is_new"
   ]
  },
  {
   "cell_type": "markdown",
   "metadata": {},
   "source": [
    "Before we go back to the **\"main.py\"** script, let's define some other things:\n",
    "\n",
    "**[1]** - In a moment, we need to get the today's news to send them, so we need to create a function to return the notices;\n",
    "\n",
    "**[2]** - Every day, we need to delete the data stored on **\"today_news\"** table, to update her, so we need to delete the old news;\n",
    "\n",
    "**[3]** - In a moment, we need to get the emails stored on our database, so we need to create a function to return them.\n",
    "\n",
    "Knowing these things, let's create the functions:"
   ]
  },
  {
   "cell_type": "code",
   "execution_count": null,
   "metadata": {},
   "outputs": [],
   "source": [
    "def get_today_news():\n",
    "    conn = sql.connect('notices.db')\n",
    "    cursor = conn.cursor()\n",
    "    cursor.execute('SELECT * FROM today_posts')\n",
    "    posts = cursor.fetchall()\n",
    "    return posts"
   ]
  },
  {
   "cell_type": "code",
   "execution_count": null,
   "metadata": {},
   "outputs": [],
   "source": [
    "def delete_today_news():\n",
    "    conn = sql.connect('notices.db')\n",
    "    cursor = conn.cursor()\n",
    "    cursor.execute('DELETE FROM today_posts')\n",
    "    conn.commit()"
   ]
  },
  {
   "cell_type": "code",
   "execution_count": null,
   "metadata": {},
   "outputs": [],
   "source": [
    "def get_mails():\n",
    "    conn = sql.connect('notices.db')\n",
    "    cursor = conn.cursor()\n",
    "    cursor.execute('SELECT email FROM emails')\n",
    "    list_emails = []\n",
    "    emails = cursor.fetchall()\n",
    "    for email in emails:\n",
    "        list_emails.append(email[0])\n",
    "    return list_emails"
   ]
  },
  {
   "cell_type": "markdown",
   "metadata": {},
   "source": [
    "Now we can finally return to the **\"main.py\"** file, below of the add_notice in the \"if not verify\"."
   ]
  },
  {
   "cell_type": "markdown",
   "metadata": {},
   "source": [
    "Basically, what we need to do in the not verify it's add and verify if the news are updated or not, so it will be:"
   ]
  },
  {
   "cell_type": "code",
   "execution_count": null,
   "metadata": {},
   "outputs": [],
   "source": [
    "        if not verify:\n",
    "            add_notice(notice_[0], notice_[1], today)\n",
    "            set_today_news(notice_[0], notice_[1], today)\n",
    "            verify_today_post = verify_today(today)\n",
    "            if not verify_today_post:\n",
    "                pass\n",
    "            else:\n",
    "                delete_today_news()\n",
    "                set_today_news(notice_[0], notice_[1], today)"
   ]
  },
  {
   "cell_type": "markdown",
   "metadata": {},
   "source": [
    "Ok, we ended the **search_notices** function. Now we need to create a function that will send our mail with the news to our list of emails, so let's create and configure her:"
   ]
  },
  {
   "cell_type": "code",
   "execution_count": null,
   "metadata": {},
   "outputs": [],
   "source": [
    "def send_mail():\n",
    "    email_list = get_mails()\n",
    "    email_from = os.getenv('EMAIL')\n",
    "    email_password = os.getenv('PASSWORD')\n",
    "    email_smtp = 'smtp.gmail.com'\n",
    "    destination = email_list\n",
    "    subject = 'Noticias diarias'"
   ]
  },
  {
   "cell_type": "markdown",
   "metadata": {},
   "source": [
    "In the ahead script, we basically configured our email, our password, the smtp who will send our message and the email-list, so now we need to format our mail content:"
   ]
  },
  {
   "cell_type": "code",
   "execution_count": null,
   "metadata": {},
   "outputs": [],
   "source": [
    "message = MIMEMultipart()\n",
    "message['FROM'] = email_from\n",
    "message['SUBJECT'] = subject\n",
    "message['To'] = \", \".join(destination)"
   ]
  },
  {
   "cell_type": "markdown",
   "metadata": {},
   "source": [
    "Now we need to create our text with the title and the resume of the news, one by one, so:"
   ]
  },
  {
   "cell_type": "code",
   "execution_count": null,
   "metadata": {},
   "outputs": [],
   "source": [
    "text = ''\n",
    "notices = get_today_news()\n",
    "for notice in notices:\n",
    "    text += f'<b>{notice[1]}</b>' + '<br>' + f'{notice[2]}' + '<br><br>'\n",
    "msg_text = MIMEText(text, 'html')\n",
    "message.attach(msg_text)"
   ]
  },
  {
   "cell_type": "markdown",
   "metadata": {},
   "source": [
    "Now, let's just send the message:"
   ]
  },
  {
   "cell_type": "code",
   "execution_count": null,
   "metadata": {},
   "outputs": [],
   "source": [
    "    try:\n",
    "        smtp = smtplib.SMTP(email_smtp, 587)\n",
    "        smtp.ehlo()\n",
    "        smtp.starttls()\n",
    "        smtp.ehlo()\n",
    "        smtp.login(email_from, email_password)\n",
    "        smtp.sendmail(email_from, destination, message.as_string())\n",
    "        print('Email enviado com sucesso')\n",
    "    except Exception as e:\n",
    "        print(f'Falha ao enviar email: {e}')"
   ]
  },
  {
   "cell_type": "markdown",
   "metadata": {},
   "source": [
    "## *Automating the sending of the messages*\n",
    "\n",
    "Now, let's return to the **\"main.py\"** file."
   ]
  },
  {
   "cell_type": "markdown",
   "metadata": {},
   "source": [
    "We need to automate the message sending, for this, we'll use the schedule module, it allows you to do actions  in certain periods of time.\n",
    "\n",
    "But it's not enough, we need to implement something that can run this script in parallel with the main script, I've chose the use of multithreading, so we have below of the app configurations:"
   ]
  },
  {
   "cell_type": "code",
   "execution_count": null,
   "metadata": {},
   "outputs": [],
   "source": [
    "try:\n",
    "    schedule.every().day.at('21:40').do(send_mail)\n",
    "except TypeError:\n",
    "    pass\n",
    "\n",
    "\n",
    "def loop_schedule():\n",
    "    while True:\n",
    "        schedule.run_pending()\n",
    "        sleep(1)\n",
    "\n",
    "\n",
    "send = Thread(target=loop_schedule)\n",
    "send.start()"
   ]
  },
  {
   "cell_type": "markdown",
   "metadata": {},
   "source": [
    "And that's it! The script is ready!"
   ]
  },
  {
   "cell_type": "markdown",
   "metadata": {},
   "source": [
    "by: Gabriel Chaves"
   ]
  },
  {
   "cell_type": "code",
   "execution_count": null,
   "metadata": {},
   "outputs": [],
   "source": []
  }
 ],
 "metadata": {
  "kernelspec": {
   "display_name": "Python 3",
   "language": "python",
   "name": "python3"
  },
  "language_info": {
   "codemirror_mode": {
    "name": "ipython",
    "version": 3
   },
   "file_extension": ".py",
   "mimetype": "text/x-python",
   "name": "python",
   "nbconvert_exporter": "python",
   "pygments_lexer": "ipython3",
   "version": "3.8.5"
  }
 },
 "nbformat": 4,
 "nbformat_minor": 4
}
